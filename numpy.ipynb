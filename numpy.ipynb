{
  "nbformat": 4,
  "nbformat_minor": 0,
  "metadata": {
    "colab": {
      "provenance": [],
      "authorship_tag": "ABX9TyNVIBpRX1WrTS0l7hiAk0lU",
      "include_colab_link": true
    },
    "kernelspec": {
      "name": "python3",
      "display_name": "Python 3"
    },
    "language_info": {
      "name": "python"
    }
  },
  "cells": [
    {
      "cell_type": "markdown",
      "metadata": {
        "id": "view-in-github",
        "colab_type": "text"
      },
      "source": [
        "<a href=\"https://colab.research.google.com/github/Vedu-Singh/Data-Science/blob/main/numpy.ipynb\" target=\"_parent\"><img src=\"https://colab.research.google.com/assets/colab-badge.svg\" alt=\"Open In Colab\"/></a>"
      ]
    },
    {
      "cell_type": "markdown",
      "source": [
        "***NUMPY LIBRARY FOR PYTHON IN DS***"
      ],
      "metadata": {
        "id": "VQJxFC4-dwRq"
      }
    },
    {
      "cell_type": "code",
      "execution_count": 1,
      "metadata": {
        "id": "xyduMnZ6ThTW",
        "colab": {
          "base_uri": "https://localhost:8080/",
          "height": 110
        },
        "outputId": "3ed5bb9d-aaf8-44fc-f589-8a3a0a5129f7"
      },
      "outputs": [
        {
          "output_type": "error",
          "ename": "SyntaxError",
          "evalue": "invalid syntax (<ipython-input-1-7c4be2b5e2ec>, line 2)",
          "traceback": [
            "\u001b[0;36m  File \u001b[0;32m\"<ipython-input-1-7c4be2b5e2ec>\"\u001b[0;36m, line \u001b[0;32m2\u001b[0m\n\u001b[0;31m    // check version\u001b[0m\n\u001b[0m    ^\u001b[0m\n\u001b[0;31mSyntaxError\u001b[0m\u001b[0;31m:\u001b[0m invalid syntax\n"
          ]
        }
      ],
      "source": [
        "import numpy as np\n",
        "// check version\n",
        "print(np.__version__)"
      ]
    },
    {
      "cell_type": "code",
      "source": [
        "import numpy as np\n",
        "\n",
        "# Check version\n",
        "print(np.__version__)\n"
      ],
      "metadata": {
        "id": "l20YaV6uaNs9",
        "outputId": "49d5d8dd-26f1-46eb-9d0e-3fd7082b7265",
        "colab": {
          "base_uri": "https://localhost:8080/"
        }
      },
      "execution_count": 2,
      "outputs": [
        {
          "output_type": "stream",
          "name": "stdout",
          "text": [
            "1.25.2\n"
          ]
        }
      ]
    },
    {
      "cell_type": "code",
      "source": [
        "import numpy as np\n",
        "\n",
        "# create an array using list in numpy\n",
        "\n",
        "a = np.array([1,2,3])\n",
        "print(a)\n",
        "\n",
        "# to analyse array --> shape method\n",
        "print(a.shape)               # it will return (3,) which means given array is of 1-dimension with three elements\n",
        "\n",
        "# to check datatype --> dtype method\n",
        "print(a.dtype)       # output -> int 64\n",
        "\n",
        "# to return no. of dimensions --> ndim method\n",
        "print(a.ndim)      # output -> 1\n",
        "\n",
        "# to return total number of elements --> size method\n",
        "print(a.size)       # output -> 3\n",
        "\n",
        "# to return size in bytes of each element -> itemsize method\n",
        "print(a.itemsize)   # output -> 8\n",
        "\n"
      ],
      "metadata": {
        "id": "7JwDT5m2ah9s",
        "outputId": "d04bf703-ae9f-4118-dcc6-a82cbc8f7bbf",
        "colab": {
          "base_uri": "https://localhost:8080/"
        }
      },
      "execution_count": 6,
      "outputs": [
        {
          "output_type": "stream",
          "name": "stdout",
          "text": [
            "[1 2 3]\n",
            "(3,)\n",
            "int64\n",
            "1\n",
            "3\n",
            "8\n"
          ]
        }
      ]
    },
    {
      "cell_type": "code",
      "source": [
        "# how to acces different element -->\n",
        "print(a[0])"
      ],
      "metadata": {
        "id": "V2zQxv7veZmH",
        "outputId": "1a41c0c5-c0a0-457e-dcc0-e0ceffeb1497",
        "colab": {
          "base_uri": "https://localhost:8080/"
        }
      },
      "execution_count": 7,
      "outputs": [
        {
          "output_type": "stream",
          "name": "stdout",
          "text": [
            "1\n"
          ]
        }
      ]
    },
    {
      "cell_type": "code",
      "source": [
        "print(a[4])"
      ],
      "metadata": {
        "id": "ZhGpMJn9emnl",
        "outputId": "0ac457d8-37da-4bec-d458-e23dcb80ecff",
        "colab": {
          "base_uri": "https://localhost:8080/",
          "height": 146
        }
      },
      "execution_count": 8,
      "outputs": [
        {
          "output_type": "error",
          "ename": "IndexError",
          "evalue": "index 4 is out of bounds for axis 0 with size 3",
          "traceback": [
            "\u001b[0;31m---------------------------------------------------------------------------\u001b[0m",
            "\u001b[0;31mIndexError\u001b[0m                                Traceback (most recent call last)",
            "\u001b[0;32m<ipython-input-8-ba4863cd608d>\u001b[0m in \u001b[0;36m<cell line: 1>\u001b[0;34m()\u001b[0m\n\u001b[0;32m----> 1\u001b[0;31m \u001b[0mprint\u001b[0m\u001b[0;34m(\u001b[0m\u001b[0ma\u001b[0m\u001b[0;34m[\u001b[0m\u001b[0;36m4\u001b[0m\u001b[0;34m]\u001b[0m\u001b[0;34m)\u001b[0m\u001b[0;34m\u001b[0m\u001b[0;34m\u001b[0m\u001b[0m\n\u001b[0m",
            "\u001b[0;31mIndexError\u001b[0m: index 4 is out of bounds for axis 0 with size 3"
          ]
        }
      ]
    },
    {
      "cell_type": "code",
      "source": [
        "print (a[3])"
      ],
      "metadata": {
        "id": "JVd1yArderpU",
        "outputId": "510ccdee-f0a6-42c8-e099-33861ef213ca",
        "colab": {
          "base_uri": "https://localhost:8080/",
          "height": 146
        }
      },
      "execution_count": 9,
      "outputs": [
        {
          "output_type": "error",
          "ename": "IndexError",
          "evalue": "index 3 is out of bounds for axis 0 with size 3",
          "traceback": [
            "\u001b[0;31m---------------------------------------------------------------------------\u001b[0m",
            "\u001b[0;31mIndexError\u001b[0m                                Traceback (most recent call last)",
            "\u001b[0;32m<ipython-input-9-c199e3721776>\u001b[0m in \u001b[0;36m<cell line: 1>\u001b[0;34m()\u001b[0m\n\u001b[0;32m----> 1\u001b[0;31m \u001b[0mprint\u001b[0m \u001b[0;34m(\u001b[0m\u001b[0ma\u001b[0m\u001b[0;34m[\u001b[0m\u001b[0;36m3\u001b[0m\u001b[0;34m]\u001b[0m\u001b[0;34m)\u001b[0m\u001b[0;34m\u001b[0m\u001b[0;34m\u001b[0m\u001b[0m\n\u001b[0m",
            "\u001b[0;31mIndexError\u001b[0m: index 3 is out of bounds for axis 0 with size 3"
          ]
        }
      ]
    },
    {
      "cell_type": "code",
      "source": [
        "a[2]= 700\n",
        "print(a)"
      ],
      "metadata": {
        "id": "xm_ToVo3eyF9",
        "outputId": "3b21641f-b903-45df-dcb7-09b9ee2765f0",
        "colab": {
          "base_uri": "https://localhost:8080/"
        }
      },
      "execution_count": 10,
      "outputs": [
        {
          "output_type": "stream",
          "name": "stdout",
          "text": [
            "[  1   2 700]\n"
          ]
        }
      ]
    },
    {
      "cell_type": "code",
      "source": [
        "print (a[2])"
      ],
      "metadata": {
        "id": "UG7nK3tue5Vr",
        "outputId": "b9c31709-a4ca-4912-a111-050ff9821588",
        "colab": {
          "base_uri": "https://localhost:8080/"
        }
      },
      "execution_count": 11,
      "outputs": [
        {
          "output_type": "stream",
          "name": "stdout",
          "text": [
            "700\n"
          ]
        }
      ]
    },
    {
      "cell_type": "code",
      "source": [
        "# mathematical operations --->\n",
        "b = a*np.array([2,3,6])\n",
        "print(b)"
      ],
      "metadata": {
        "id": "pnWRsJXEe8ct",
        "outputId": "2ded4301-fa84-42c4-d88c-059aaf891ca4",
        "colab": {
          "base_uri": "https://localhost:8080/"
        }
      },
      "execution_count": 12,
      "outputs": [
        {
          "output_type": "stream",
          "name": "stdout",
          "text": [
            "[   2    6 4200]\n"
          ]
        }
      ]
    },
    {
      "cell_type": "code",
      "source": [
        "# Array vs Python list -->\n",
        "l = [23,56,78]\n",
        "\n",
        "m = np.array([23,56,78])\n",
        "\n",
        "l.append(89)\n",
        "print(l)\n",
        "\n",
        "m.append(89)      # numpy object has no attribute -> error\n",
        "print(m)"
      ],
      "metadata": {
        "id": "DIcBs9ftfbkE",
        "outputId": "425bd13c-d09e-4801-d92a-8812340a37dd",
        "colab": {
          "base_uri": "https://localhost:8080/",
          "height": 219
        }
      },
      "execution_count": 14,
      "outputs": [
        {
          "output_type": "stream",
          "name": "stdout",
          "text": [
            "[23, 56, 78, 89]\n"
          ]
        },
        {
          "output_type": "error",
          "ename": "AttributeError",
          "evalue": "'numpy.ndarray' object has no attribute 'append'",
          "traceback": [
            "\u001b[0;31m---------------------------------------------------------------------------\u001b[0m",
            "\u001b[0;31mAttributeError\u001b[0m                            Traceback (most recent call last)",
            "\u001b[0;32m<ipython-input-14-b756dcd1be28>\u001b[0m in \u001b[0;36m<cell line: 9>\u001b[0;34m()\u001b[0m\n\u001b[1;32m      7\u001b[0m \u001b[0mprint\u001b[0m\u001b[0;34m(\u001b[0m\u001b[0ml\u001b[0m\u001b[0;34m)\u001b[0m\u001b[0;34m\u001b[0m\u001b[0;34m\u001b[0m\u001b[0m\n\u001b[1;32m      8\u001b[0m \u001b[0;34m\u001b[0m\u001b[0m\n\u001b[0;32m----> 9\u001b[0;31m \u001b[0mm\u001b[0m\u001b[0;34m.\u001b[0m\u001b[0mappend\u001b[0m\u001b[0;34m(\u001b[0m\u001b[0;36m89\u001b[0m\u001b[0;34m)\u001b[0m      \u001b[0;31m# numpy object has no attribute -> error\u001b[0m\u001b[0;34m\u001b[0m\u001b[0;34m\u001b[0m\u001b[0m\n\u001b[0m\u001b[1;32m     10\u001b[0m \u001b[0mprint\u001b[0m\u001b[0;34m(\u001b[0m\u001b[0mm\u001b[0m\u001b[0;34m)\u001b[0m\u001b[0;34m\u001b[0m\u001b[0;34m\u001b[0m\u001b[0m\n",
            "\u001b[0;31mAttributeError\u001b[0m: 'numpy.ndarray' object has no attribute 'append'"
          ]
        }
      ]
    },
    {
      "cell_type": "code",
      "source": [
        "l = l + [4]\n",
        "\n",
        "m = m + np.array([4])                     # broadcasting method in numpy\n",
        "print(l)\n",
        "print(m)"
      ],
      "metadata": {
        "id": "Pfm-wZj2gOrc",
        "outputId": "5092cb30-1512-4962-8696-f8121eac7179",
        "colab": {
          "base_uri": "https://localhost:8080/"
        }
      },
      "execution_count": 15,
      "outputs": [
        {
          "output_type": "stream",
          "name": "stdout",
          "text": [
            "[23, 56, 78, 89, 4]\n",
            "[27 60 82]\n"
          ]
        }
      ]
    },
    {
      "cell_type": "code",
      "source": [
        "l = l*2\n",
        "print(l)\n",
        "\n",
        "m = m*2\n",
        "print(m)"
      ],
      "metadata": {
        "id": "i_M2zYXnhM33",
        "outputId": "b5029445-d863-4dfc-c698-c7263da7ae34",
        "colab": {
          "base_uri": "https://localhost:8080/"
        }
      },
      "execution_count": 16,
      "outputs": [
        {
          "output_type": "stream",
          "name": "stdout",
          "text": [
            "[23, 56, 78, 89, 4, 23, 56, 78, 89, 4]\n",
            "[ 54 120 164]\n"
          ]
        }
      ]
    },
    {
      "cell_type": "code",
      "source": [
        "m = np.sqrt(m)\n",
        "print(m)"
      ],
      "metadata": {
        "id": "25vHIl2EhoZV",
        "outputId": "d9358469-b38b-4be7-e58a-fa182defc8ee",
        "colab": {
          "base_uri": "https://localhost:8080/"
        }
      },
      "execution_count": 17,
      "outputs": [
        {
          "output_type": "stream",
          "name": "stdout",
          "text": [
            "[ 7.34846923 10.95445115 12.80624847]\n"
          ]
        }
      ]
    },
    {
      "cell_type": "code",
      "source": [
        "m = np.log(m)\n",
        "print(m)"
      ],
      "metadata": {
        "id": "XKKN7fQbh2Ch",
        "outputId": "ff98a0dd-5e66-4839-9d8e-c4fa2255dde1",
        "colab": {
          "base_uri": "https://localhost:8080/"
        }
      },
      "execution_count": 18,
      "outputs": [
        {
          "output_type": "stream",
          "name": "stdout",
          "text": [
            "[1.99449202 2.39374587 2.54993321]\n"
          ]
        }
      ]
    },
    {
      "cell_type": "markdown",
      "source": [
        "**DOT PRODUCT OF VECTORS IN NUMPY**"
      ],
      "metadata": {
        "id": "LKVtkteeh-nI"
      }
    },
    {
      "cell_type": "code",
      "source": [
        "l1=[1,2,3]\n",
        "l2=[4,5,6]\n",
        "# list method -->\n",
        "n = np.array([1,2,3])\n",
        "\n",
        "dot=0\n",
        "for i in range(len(l1)):\n",
        "  dot += l1[i]*l2[i]\n",
        "print(dot)\n",
        "\n",
        "\n",
        "# array method -->\n",
        "\n",
        "a1 = np.array(l1)\n",
        "a2 = np.array(l2)\n",
        "\n",
        "dot = np.dot(a1,a2)\n",
        "print(dot)\n",
        "\n",
        "\n",
        "# object method -->\n",
        "add = a1 * a2\n",
        "dot = (a1*a2).sum()\n",
        "# dot = np.sum(add)\n",
        "print(dot)\n",
        "\n",
        "# aderate method -->\n",
        "dot = a1 @ a2\n",
        "print(dot)"
      ],
      "metadata": {
        "id": "5zkcONzJiE0c",
        "outputId": "2137ee7e-6e73-41c7-9453-66b02e3039e5",
        "colab": {
          "base_uri": "https://localhost:8080/"
        }
      },
      "execution_count": 23,
      "outputs": [
        {
          "output_type": "stream",
          "name": "stdout",
          "text": [
            "32\n",
            "32\n",
            "32\n",
            "32\n"
          ]
        }
      ]
    },
    {
      "cell_type": "code",
      "source": [
        "# multidimenstional aarays --->\n",
        "\n",
        "d = np.array([[1,2,3],[4,6,8]])\n",
        "print(d)\n",
        "print(d.shape)\n",
        "\n",
        "print(d[0])\n",
        "print(d[0][1])\n",
        "print(d[1][2])\n",
        "print(d[0,0])"
      ],
      "metadata": {
        "id": "qgWOOf81l9i_",
        "outputId": "d68214e7-1518-47e1-d0fd-a71ca20b51ec",
        "colab": {
          "base_uri": "https://localhost:8080/"
        }
      },
      "execution_count": 33,
      "outputs": [
        {
          "output_type": "stream",
          "name": "stdout",
          "text": [
            "[[1 2 3]\n",
            " [4 6 8]]\n",
            "(2, 3)\n",
            "[1 2 3]\n",
            "2\n",
            "8\n",
            "1\n"
          ]
        }
      ]
    },
    {
      "cell_type": "code",
      "source": [
        "# slicing --->\n",
        "print(d[0,:])\n",
        "print(d[:,0])\n",
        "\n",
        "# transpose of a multi array -->\n",
        "print(d.T)"
      ],
      "metadata": {
        "id": "0W6jZd7XoAzc",
        "outputId": "ec49d4b9-56f4-44a4-a7fd-e7fd68d7f0f0",
        "colab": {
          "base_uri": "https://localhost:8080/"
        }
      },
      "execution_count": 35,
      "outputs": [
        {
          "output_type": "stream",
          "name": "stdout",
          "text": [
            "[1 2 3]\n",
            "[1 4]\n",
            "[[1 4]\n",
            " [2 6]\n",
            " [3 8]]\n"
          ]
        }
      ]
    },
    {
      "cell_type": "code",
      "source": [
        "# inverse of an array -->\n",
        "print(np.linalg.inv(d))"
      ],
      "metadata": {
        "id": "jMccosY2sIti",
        "outputId": "42b58ab7-448b-4212-e021-793595ec4a0f",
        "colab": {
          "base_uri": "https://localhost:8080/",
          "height": 315
        }
      },
      "execution_count": 36,
      "outputs": [
        {
          "output_type": "error",
          "ename": "LinAlgError",
          "evalue": "Last 2 dimensions of the array must be square",
          "traceback": [
            "\u001b[0;31m---------------------------------------------------------------------------\u001b[0m",
            "\u001b[0;31mLinAlgError\u001b[0m                               Traceback (most recent call last)",
            "\u001b[0;32m<ipython-input-36-42210e956f92>\u001b[0m in \u001b[0;36m<cell line: 2>\u001b[0;34m()\u001b[0m\n\u001b[1;32m      1\u001b[0m \u001b[0;31m# inverse of an array -->\u001b[0m\u001b[0;34m\u001b[0m\u001b[0;34m\u001b[0m\u001b[0m\n\u001b[0;32m----> 2\u001b[0;31m \u001b[0mprint\u001b[0m\u001b[0;34m(\u001b[0m\u001b[0mnp\u001b[0m\u001b[0;34m.\u001b[0m\u001b[0mlinalg\u001b[0m\u001b[0;34m.\u001b[0m\u001b[0minv\u001b[0m\u001b[0;34m(\u001b[0m\u001b[0md\u001b[0m\u001b[0;34m)\u001b[0m\u001b[0;34m)\u001b[0m\u001b[0;34m\u001b[0m\u001b[0;34m\u001b[0m\u001b[0m\n\u001b[0m",
            "\u001b[0;32m/usr/local/lib/python3.10/dist-packages/numpy/linalg/linalg.py\u001b[0m in \u001b[0;36minv\u001b[0;34m(a)\u001b[0m\n\u001b[1;32m    554\u001b[0m     \u001b[0ma\u001b[0m\u001b[0;34m,\u001b[0m \u001b[0mwrap\u001b[0m \u001b[0;34m=\u001b[0m \u001b[0m_makearray\u001b[0m\u001b[0;34m(\u001b[0m\u001b[0ma\u001b[0m\u001b[0;34m)\u001b[0m\u001b[0;34m\u001b[0m\u001b[0;34m\u001b[0m\u001b[0m\n\u001b[1;32m    555\u001b[0m     \u001b[0m_assert_stacked_2d\u001b[0m\u001b[0;34m(\u001b[0m\u001b[0ma\u001b[0m\u001b[0;34m)\u001b[0m\u001b[0;34m\u001b[0m\u001b[0;34m\u001b[0m\u001b[0m\n\u001b[0;32m--> 556\u001b[0;31m     \u001b[0m_assert_stacked_square\u001b[0m\u001b[0;34m(\u001b[0m\u001b[0ma\u001b[0m\u001b[0;34m)\u001b[0m\u001b[0;34m\u001b[0m\u001b[0;34m\u001b[0m\u001b[0m\n\u001b[0m\u001b[1;32m    557\u001b[0m     \u001b[0mt\u001b[0m\u001b[0;34m,\u001b[0m \u001b[0mresult_t\u001b[0m \u001b[0;34m=\u001b[0m \u001b[0m_commonType\u001b[0m\u001b[0;34m(\u001b[0m\u001b[0ma\u001b[0m\u001b[0;34m)\u001b[0m\u001b[0;34m\u001b[0m\u001b[0;34m\u001b[0m\u001b[0m\n\u001b[1;32m    558\u001b[0m \u001b[0;34m\u001b[0m\u001b[0m\n",
            "\u001b[0;32m/usr/local/lib/python3.10/dist-packages/numpy/linalg/linalg.py\u001b[0m in \u001b[0;36m_assert_stacked_square\u001b[0;34m(*arrays)\u001b[0m\n\u001b[1;32m    211\u001b[0m         \u001b[0mm\u001b[0m\u001b[0;34m,\u001b[0m \u001b[0mn\u001b[0m \u001b[0;34m=\u001b[0m \u001b[0ma\u001b[0m\u001b[0;34m.\u001b[0m\u001b[0mshape\u001b[0m\u001b[0;34m[\u001b[0m\u001b[0;34m-\u001b[0m\u001b[0;36m2\u001b[0m\u001b[0;34m:\u001b[0m\u001b[0;34m]\u001b[0m\u001b[0;34m\u001b[0m\u001b[0;34m\u001b[0m\u001b[0m\n\u001b[1;32m    212\u001b[0m         \u001b[0;32mif\u001b[0m \u001b[0mm\u001b[0m \u001b[0;34m!=\u001b[0m \u001b[0mn\u001b[0m\u001b[0;34m:\u001b[0m\u001b[0;34m\u001b[0m\u001b[0;34m\u001b[0m\u001b[0m\n\u001b[0;32m--> 213\u001b[0;31m             \u001b[0;32mraise\u001b[0m \u001b[0mLinAlgError\u001b[0m\u001b[0;34m(\u001b[0m\u001b[0;34m'Last 2 dimensions of the array must be square'\u001b[0m\u001b[0;34m)\u001b[0m\u001b[0;34m\u001b[0m\u001b[0;34m\u001b[0m\u001b[0m\n\u001b[0m\u001b[1;32m    214\u001b[0m \u001b[0;34m\u001b[0m\u001b[0m\n\u001b[1;32m    215\u001b[0m \u001b[0;32mdef\u001b[0m \u001b[0m_assert_finite\u001b[0m\u001b[0;34m(\u001b[0m\u001b[0;34m*\u001b[0m\u001b[0marrays\u001b[0m\u001b[0;34m)\u001b[0m\u001b[0;34m:\u001b[0m\u001b[0;34m\u001b[0m\u001b[0;34m\u001b[0m\u001b[0m\n",
            "\u001b[0;31mLinAlgError\u001b[0m: Last 2 dimensions of the array must be square"
          ]
        }
      ]
    },
    {
      "cell_type": "code",
      "source": [
        "d = np.array([[1,2],[4,6]])\n",
        "print(d)\n",
        "\n",
        "print(np.linalg.inv(d))"
      ],
      "metadata": {
        "id": "RT9b3HfcsfbS",
        "outputId": "de9eed75-9e47-44dc-997f-33c3ed1b3984",
        "colab": {
          "base_uri": "https://localhost:8080/"
        }
      },
      "execution_count": 37,
      "outputs": [
        {
          "output_type": "stream",
          "name": "stdout",
          "text": [
            "[[1 2]\n",
            " [4 6]]\n",
            "[[-3.   1. ]\n",
            " [ 2.  -0.5]]\n"
          ]
        }
      ]
    },
    {
      "cell_type": "code",
      "source": [
        "print(np.linalg.det(d))                   # to calculate determinant"
      ],
      "metadata": {
        "id": "ZUCSFxJlsyV0",
        "outputId": "4043e891-5cf5-4d27-ba08-f1b55b2f7b06",
        "colab": {
          "base_uri": "https://localhost:8080/"
        }
      },
      "execution_count": 38,
      "outputs": [
        {
          "output_type": "stream",
          "name": "stdout",
          "text": [
            "-2.0\n"
          ]
        }
      ]
    },
    {
      "cell_type": "code",
      "source": [
        "# print diagonal matrix\n",
        "\n",
        "print(np.diag(d))\n",
        "\n",
        "\n",
        "c = np.diag(d)\n",
        "print(np.diag(c))"
      ],
      "metadata": {
        "id": "fm58jKX7tKmF",
        "outputId": "b0d414da-47c5-4d45-8ce5-c59c120e4481",
        "colab": {
          "base_uri": "https://localhost:8080/"
        }
      },
      "execution_count": 41,
      "outputs": [
        {
          "output_type": "stream",
          "name": "stdout",
          "text": [
            "[1 6]\n",
            "[[1 0]\n",
            " [0 6]]\n"
          ]
        }
      ]
    },
    {
      "cell_type": "code",
      "source": [
        "# other operations ---->\n",
        "\n",
        "n1 = [[1,4,6,8],[5,9,7,2],[56,78,7]]\n",
        "print(n1)\n",
        "\n",
        "n3 = np.array([[1,4,6,8],[5,9,7,2],[56,78,26,34]])\n",
        "\n",
        "print(n3)\n",
        "\n",
        "print(n3.reshape(4,3))"
      ],
      "metadata": {
        "id": "NDYjehSuuzF5",
        "outputId": "77e07244-3a6d-4a78-f941-9de95ff451cb",
        "colab": {
          "base_uri": "https://localhost:8080/"
        }
      },
      "execution_count": 44,
      "outputs": [
        {
          "output_type": "stream",
          "name": "stdout",
          "text": [
            "[[1, 4, 6, 8], [5, 9, 7, 2], [56, 78, 7]]\n",
            "[[ 1  4  6  8]\n",
            " [ 5  9  7  2]\n",
            " [56 78 26 34]]\n",
            "[[ 1  4  6]\n",
            " [ 8  5  9]\n",
            " [ 7  2 56]\n",
            " [78 26 34]]\n"
          ]
        }
      ]
    },
    {
      "cell_type": "code",
      "source": [
        "# indexing --->\n",
        "import numpy as np\n",
        "\n",
        "a = np.array([[1,2,3,4], [5,6,7,8]])\n",
        "print(a)\n",
        "\n",
        "b = a[0,1]\n",
        "print(b)\n",
        "\n",
        "# slicing --->\n",
        "\n",
        "b = a[0,:]              # print all elements of row 0 --> row operation\n",
        "print(b)\n",
        "\n",
        "b = a[0,1:3]            # start,end : stop\n",
        "print(b)\n",
        "\n",
        "b = a[0:2,1]            # start,end : stop\n",
        "print(b)\n",
        "\n",
        "b= a[:,1]          # column operation\n",
        "print(b)\n",
        "\n",
        "b = a[-1,1]        # -ve indexing -> last row first column\n",
        "print(b)\n",
        "\n",
        "b= a[-1,-1]           # last row and last column\n",
        "print(b)\n",
        "\n",
        "b = a[-1,-2]        # -ve indexing -> last row second last column\n",
        "print(b)"
      ],
      "metadata": {
        "id": "JqLtxpQdaIrP",
        "outputId": "f6997e04-14b4-4341-eff6-aa6b01620548",
        "colab": {
          "base_uri": "https://localhost:8080/"
        }
      },
      "execution_count": 9,
      "outputs": [
        {
          "output_type": "stream",
          "name": "stdout",
          "text": [
            "[[1 2 3 4]\n",
            " [5 6 7 8]]\n",
            "2\n",
            "[1 2 3 4]\n",
            "[2 3]\n",
            "[2 6]\n",
            "[2 6]\n",
            "6\n",
            "8\n",
            "7\n"
          ]
        }
      ]
    },
    {
      "cell_type": "code",
      "source": [
        "# Boolean Indexing ---->\n",
        "import numpy as np\n",
        "\n",
        "c = np.array([[1,2],[3,4],[5,6]])        # 2-D matrix {3*2}\n",
        "print(c)\n",
        "\n",
        "bool_idx = c > 2\n",
        "print(bool_idx)\n",
        "\n",
        "print(c[bool_idx])         # get only those elements where condition is true\n",
        "print(c[c>2])       # same result\n",
        "\n",
        "b = np.where(c>2,c,-1)       # where condition is false it will show -1\n",
        "print(b)\n",
        "\n",
        "# fancy indexing -->\n",
        "\n",
        "d = np.array([12,3,4,5,89,56,73,84,32,14])\n",
        "print(d)\n",
        "\n",
        "e = [1,3,5]\n",
        "print(d[e])\n",
        "\n",
        "\n",
        "# how to print only even numbers from array\n",
        "\n",
        "even = np.argwhere(d%2==0).flatten()\n",
        "print(d[even])\n"
      ],
      "metadata": {
        "id": "PGF7nxicdO1_",
        "outputId": "d0f705ff-d474-48f5-c374-27f2c2d3abea",
        "colab": {
          "base_uri": "https://localhost:8080/"
        }
      },
      "execution_count": 17,
      "outputs": [
        {
          "output_type": "stream",
          "name": "stdout",
          "text": [
            "[[1 2]\n",
            " [3 4]\n",
            " [5 6]]\n",
            "[[False False]\n",
            " [ True  True]\n",
            " [ True  True]]\n",
            "[3 4 5 6]\n",
            "[3 4 5 6]\n",
            "[[-1 -1]\n",
            " [ 3  4]\n",
            " [ 5  6]]\n",
            "[12  3  4  5 89 56 73 84 32 14]\n",
            "[ 3  5 56]\n",
            "[12  4 56 84 32 14]\n"
          ]
        }
      ]
    },
    {
      "cell_type": "code",
      "source": [
        "# RESHAPING IN NUMPY --->\n",
        "\n",
        "import numpy as np\n",
        "\n",
        "f = np.arange(1,7)\n",
        "print(f)\n",
        "\n",
        "print(f.shape)           # 1-D with 6 elements\n",
        "\n",
        "b = f.reshape((2,3))       # 2 -rows and 3-columns with 2-D\n",
        "print(b)\n",
        "print(b.shape)\n",
        "\n",
        "b = f.reshape((3,2))       # 3-rows and 2-columns with 2-D\n",
        "print(b)\n",
        "print(b.shape)\n",
        "\n",
        "# to add new dimension -->\n",
        "\n",
        "g = f[np.newaxis,:]\n",
        "print(g)\n",
        "print(g.shape)\n",
        "\n",
        "h = f[:,np.newaxis]\n",
        "print(h)\n",
        "print(h.shape)"
      ],
      "metadata": {
        "id": "FePq_IbbjWV-",
        "outputId": "dc1112aa-8cf0-46e3-9cc0-33829d882df6",
        "colab": {
          "base_uri": "https://localhost:8080/"
        }
      },
      "execution_count": 23,
      "outputs": [
        {
          "output_type": "stream",
          "name": "stdout",
          "text": [
            "[1 2 3 4 5 6]\n",
            "(6,)\n",
            "[[1 2 3]\n",
            " [4 5 6]]\n",
            "(2, 3)\n",
            "[[1 2]\n",
            " [3 4]\n",
            " [5 6]]\n",
            "(3, 2)\n",
            "[[1 2 3 4 5 6]]\n",
            "(1, 6)\n",
            "[[1]\n",
            " [2]\n",
            " [3]\n",
            " [4]\n",
            " [5]\n",
            " [6]]\n",
            "(6, 1)\n"
          ]
        }
      ]
    },
    {
      "cell_type": "code",
      "source": [
        "# Concatenation in Numpy --->\n",
        "import numpy as np\n",
        "\n",
        "a = np.array([[1,2],[3,4]])\n",
        "print(a)\n",
        "\n",
        "b = np.array([[5,6]])\n",
        "print(b)\n",
        "\n",
        "c = np.concatenate((a,b))\n",
        "print(c)\n",
        "\n",
        "c = np.concatenate((a,b), axis=0)      # same result\n",
        "print(c)\n",
        "\n",
        "c = np.concatenate((a,b), axis=None)   # just a flatten simple 1-D array\n",
        "print(c)\n",
        "\n",
        "c = np.concatenate((a,b), axis=1)\n",
        "print(c)"
      ],
      "metadata": {
        "id": "ffW_BERSrzPB",
        "outputId": "d4f9d9fb-d4c7-48e2-bb4e-0497e883ca2d",
        "colab": {
          "base_uri": "https://localhost:8080/",
          "height": 400
        }
      },
      "execution_count": 29,
      "outputs": [
        {
          "output_type": "stream",
          "name": "stdout",
          "text": [
            "[[1 2]\n",
            " [3 4]]\n",
            "[[5 6]]\n",
            "[[1 2]\n",
            " [3 4]\n",
            " [5 6]]\n",
            "[[1 2]\n",
            " [3 4]\n",
            " [5 6]]\n",
            "[1 2 3 4 5 6]\n"
          ]
        },
        {
          "output_type": "error",
          "ename": "ValueError",
          "evalue": "all the input array dimensions except for the concatenation axis must match exactly, but along dimension 0, the array at index 0 has size 2 and the array at index 1 has size 1",
          "traceback": [
            "\u001b[0;31m---------------------------------------------------------------------------\u001b[0m",
            "\u001b[0;31mValueError\u001b[0m                                Traceback (most recent call last)",
            "\u001b[0;32m<ipython-input-29-77ecdf1594e1>\u001b[0m in \u001b[0;36m<cell line: 19>\u001b[0;34m()\u001b[0m\n\u001b[1;32m     17\u001b[0m \u001b[0mprint\u001b[0m\u001b[0;34m(\u001b[0m\u001b[0mc\u001b[0m\u001b[0;34m)\u001b[0m\u001b[0;34m\u001b[0m\u001b[0;34m\u001b[0m\u001b[0m\n\u001b[1;32m     18\u001b[0m \u001b[0;34m\u001b[0m\u001b[0m\n\u001b[0;32m---> 19\u001b[0;31m \u001b[0mc\u001b[0m \u001b[0;34m=\u001b[0m \u001b[0mnp\u001b[0m\u001b[0;34m.\u001b[0m\u001b[0mconcatenate\u001b[0m\u001b[0;34m(\u001b[0m\u001b[0;34m(\u001b[0m\u001b[0ma\u001b[0m\u001b[0;34m,\u001b[0m\u001b[0mb\u001b[0m\u001b[0;34m)\u001b[0m\u001b[0;34m,\u001b[0m \u001b[0maxis\u001b[0m\u001b[0;34m=\u001b[0m\u001b[0;36m1\u001b[0m\u001b[0;34m)\u001b[0m\u001b[0;34m\u001b[0m\u001b[0;34m\u001b[0m\u001b[0m\n\u001b[0m\u001b[1;32m     20\u001b[0m \u001b[0mprint\u001b[0m\u001b[0;34m(\u001b[0m\u001b[0mc\u001b[0m\u001b[0;34m)\u001b[0m\u001b[0;34m\u001b[0m\u001b[0;34m\u001b[0m\u001b[0m\n",
            "\u001b[0;31mValueError\u001b[0m: all the input array dimensions except for the concatenation axis must match exactly, but along dimension 0, the array at index 0 has size 2 and the array at index 1 has size 1"
          ]
        }
      ]
    },
    {
      "cell_type": "code",
      "source": [
        "c = np.concatenate((a,b.T), axis=1)                     # one more column is added\n",
        "print(c)"
      ],
      "metadata": {
        "id": "5cWU9bJCtVyA",
        "outputId": "63fb1589-e5ad-4217-96cc-06469b3fcf0c",
        "colab": {
          "base_uri": "https://localhost:8080/"
        }
      },
      "execution_count": 30,
      "outputs": [
        {
          "output_type": "stream",
          "name": "stdout",
          "text": [
            "[[1 2 5]\n",
            " [3 4 6]]\n"
          ]
        }
      ]
    }
  ]
}